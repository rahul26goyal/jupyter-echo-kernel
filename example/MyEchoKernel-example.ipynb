{
 "cells": [
  {
   "cell_type": "code",
   "execution_count": 14,
   "id": "a6a9f619",
   "metadata": {},
   "outputs": [
    {
     "data": {
      "text/plain": [
       "'Hello!!'"
      ]
     },
     "execution_count": 14,
     "metadata": {},
     "output_type": "execute_result"
    }
   ],
   "source": [
    "\"Hello!!\""
   ]
  },
  {
   "cell_type": "code",
   "execution_count": 15,
   "id": "1a39d521",
   "metadata": {},
   "outputs": [
    {
     "data": {
      "text/plain": [
       "'Welcome to My Echo Kernel Project'"
      ]
     },
     "execution_count": 15,
     "metadata": {},
     "output_type": "execute_result"
    }
   ],
   "source": [
    "\"Welcome to My Echo Kernel Project\""
   ]
  },
  {
   "cell_type": "code",
   "execution_count": 16,
   "id": "cad57439",
   "metadata": {},
   "outputs": [
    {
     "data": {
      "text/plain": [
       "'What you type is what you get'"
      ]
     },
     "execution_count": 16,
     "metadata": {},
     "output_type": "execute_result"
    }
   ],
   "source": [
    "\"What you type is what you get\""
   ]
  },
  {
   "cell_type": "code",
   "execution_count": 17,
   "id": "004cb54d",
   "metadata": {},
   "outputs": [
    {
     "data": {
      "text/plain": [
       "'This is an extension kernel on top in standar IPython, so you can still execute all the magic other than the python code.'"
      ]
     },
     "execution_count": 17,
     "metadata": {},
     "output_type": "execute_result"
    }
   ],
   "source": [
    "\"This is an extension kernel on top in standar IPython, so you can still execute all the magic other than the python code.\""
   ]
  },
  {
   "cell_type": "code",
   "execution_count": 18,
   "id": "d0a1f347",
   "metadata": {},
   "outputs": [
    {
     "name": "stdout",
     "output_type": "stream",
     "text": [
      "MyEchoKernel-example.ipynb\r\n"
     ]
    }
   ],
   "source": [
    "%ls"
   ]
  },
  {
   "cell_type": "code",
   "execution_count": 19,
   "id": "44c47c63",
   "metadata": {},
   "outputs": [
    {
     "name": "stdout",
     "output_type": "stream",
     "text": [
      "CPU times: user 3 µs, sys: 0 ns, total: 3 µs\n",
      "Wall time: 6.2 µs\n"
     ]
    },
    {
     "data": {
      "text/plain": [
       "'hi'"
      ]
     },
     "execution_count": 19,
     "metadata": {},
     "output_type": "execute_result"
    }
   ],
   "source": [
    "%time \"hi\""
   ]
  },
  {
   "cell_type": "code",
   "execution_count": 20,
   "id": "ade02e21",
   "metadata": {},
   "outputs": [],
   "source": [
    "#%less ./MyEchoKernel-example.ipynb"
   ]
  },
  {
   "cell_type": "code",
   "execution_count": 21,
   "id": "8426b492",
   "metadata": {},
   "outputs": [
    {
     "data": {
      "text/plain": [
       "'Thanks for showing interest. If you have any query, feel free to message me on gitter: https://gitter.im/rahul26goyal'"
      ]
     },
     "execution_count": 21,
     "metadata": {},
     "output_type": "execute_result"
    }
   ],
   "source": [
    "\"Thanks for showing interest. If you have any query, feel free to message me on gitter: https://gitter.im/rahul26goyal\""
   ]
  },
  {
   "cell_type": "code",
   "execution_count": 22,
   "id": "a4a7475e",
   "metadata": {},
   "outputs": [
    {
     "data": {
      "text/plain": [
       "'Have a good day!'"
      ]
     },
     "execution_count": 22,
     "metadata": {},
     "output_type": "execute_result"
    }
   ],
   "source": [
    "\"Have a good day!\""
   ]
  },
  {
   "cell_type": "code",
   "execution_count": null,
   "id": "9e93c0af",
   "metadata": {},
   "outputs": [],
   "source": []
  }
 ],
 "metadata": {
  "kernelspec": {
   "display_name": "MyEchoKernel",
   "language": "",
   "name": "echo_kernel"
  },
  "language_info": {
   "codemirror_mode": {
    "name": "ipython",
    "version": 3
   },
   "file_extension": ".py",
   "mimetype": "text/x-python",
   "name": "python",
   "nbconvert_exporter": "python",
   "pygments_lexer": "ipython3",
   "version": "3.8.5"
  }
 },
 "nbformat": 4,
 "nbformat_minor": 5
}
